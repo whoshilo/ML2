{
 "cells": [
  {
   "cell_type": "markdown",
   "id": "fdb73e9d",
   "metadata": {},
   "source": [
    "# RFP: Maze Solvers\n",
    "\n",
    "## Project Overview\n",
    "You are invited to submit a proposal that answers the following question:\n",
    "\n",
    "### What path will your elf take?\n",
    "\n",
    "*Please submit your proposal by **2/11/25 at 11:59 PM**.*"
   ]
  },
  {
   "cell_type": "markdown",
   "id": "d88b6a60",
   "metadata": {},
   "source": [
    "## Required Proposal Components\n",
    "\n",
    "### 1. Data Description\n",
    "In the code cell below, use [Gymnasium](https://gymnasium.farama.org/) to set up a [Frozen Lake maze](https://gymnasium.farama.org/environments/toy_text/frozen_lake/) for your project. When you are done with the set up, describe the reward system you plan on using.\n",
    "\n",
    "*Note, a level 5 maze is at least 10 x 10 cells large and contains at least five lake cells.*"
   ]
  },
  {
   "cell_type": "code",
   "execution_count": 3,
   "id": "8744bf04",
   "metadata": {},
   "outputs": [],
   "source": [
    "import gymnasium as gym\n",
    "import random\n",
    "import pandas as pd\n",
    "from gymnasium.envs.toy_text.frozen_lake import generate_random_map"
   ]
  },
  {
   "cell_type": "code",
   "execution_count": 4,
   "id": "34314a12",
   "metadata": {},
   "outputs": [],
   "source": [
    "# Make maze\n",
    "env = gym.make('FrozenLake-v1', desc=generate_random_map(size=10), render_mode='human')\n",
    "\n",
    "initial_state = env.reset()\n",
    "\n",
    "env.render()\n",
    "\n",
    "# Take a step (0: LEFT, 1: DOWN, 2: RIGHT, 3: UP)\n",
    "action = 2\n",
    "new_state, reward, terminated, truncated, info = env.step(action)\n",
    "\n",
    "env.render()"
   ]
  },
  {
   "cell_type": "code",
   "execution_count": 5,
   "id": "aff6aa9d-27ad-4b87-83de-81e5f150a9ec",
   "metadata": {},
   "outputs": [],
   "source": [
    "env.close()"
   ]
  },
  {
   "cell_type": "markdown",
   "id": "c38ed9f9",
   "metadata": {},
   "source": [
    "#### Reward System:\n",
    "## Empty Space = -1 point\n",
    "## Present = 100 points\n",
    "## Hole = -100 points"
   ]
  },
  {
   "cell_type": "markdown",
   "id": "67f80b3f",
   "metadata": {},
   "source": [
    "### 2. Training Your Model\n",
    "In the cell seen below, write the code you need to train a Q-Learning model. Display your final Q-table once you are done training your model.\n",
    "\n",
    "*Note, level 5 work uses only the standard Python library and Pandas to train your Q-Learning model. A level 4 uses external libraries like Baseline3.*"
   ]
  },
  {
   "cell_type": "code",
   "execution_count": 8,
   "id": "358c5dd5-8247-4221-880b-bd5d6505805a",
   "metadata": {},
   "outputs": [],
   "source": [
    "# Learning rate - 0.5, discount - 0.5\n",
    "# Bellman Equation: (1-alpha)q(s , a) + alpha(R + gamma(max(q(s' , a'))))\n",
    "# Q Table Diagram"
   ]
  },
  {
   "cell_type": "code",
   "execution_count": null,
   "id": "73e62305",
   "metadata": {},
   "outputs": [
    {
     "name": "stderr",
     "output_type": "stream",
     "text": [
      "C:\\Users\\mcaraballojr\\AppData\\Local\\Temp\\ipykernel_18036\\3908382634.py:46: FutureWarning: Setting an item of incompatible dtype is deprecated and will raise an error in a future version of pandas. Value '-0.1' has dtype incompatible with int64, please explicitly cast to a compatible dtype first.\n",
      "  Q.loc[state, action] = (1 - alpha) * Q.loc[state, action] + alpha * (reward + gamma * best_future_q)\n",
      "C:\\Users\\mcaraballojr\\AppData\\Local\\Temp\\ipykernel_18036\\3908382634.py:46: FutureWarning: Setting an item of incompatible dtype is deprecated and will raise an error in a future version of pandas. Value '-0.1' has dtype incompatible with int64, please explicitly cast to a compatible dtype first.\n",
      "  Q.loc[state, action] = (1 - alpha) * Q.loc[state, action] + alpha * (reward + gamma * best_future_q)\n",
      "C:\\Users\\mcaraballojr\\AppData\\Local\\Temp\\ipykernel_18036\\3908382634.py:46: FutureWarning: Setting an item of incompatible dtype is deprecated and will raise an error in a future version of pandas. Value '0.8' has dtype incompatible with int64, please explicitly cast to a compatible dtype first.\n",
      "  Q.loc[state, action] = (1 - alpha) * Q.loc[state, action] + alpha * (reward + gamma * best_future_q)\n",
      "C:\\Users\\mcaraballojr\\AppData\\Local\\Temp\\ipykernel_18036\\3908382634.py:46: FutureWarning: Setting an item of incompatible dtype is deprecated and will raise an error in a future version of pandas. Value '1.6100000000000003' has dtype incompatible with int64, please explicitly cast to a compatible dtype first.\n",
      "  Q.loc[state, action] = (1 - alpha) * Q.loc[state, action] + alpha * (reward + gamma * best_future_q)\n"
     ]
    }
   ],
   "source": [
    "states = list(range(400))\n",
    "actions = [0, 1, 2, 3]  # 0 = left, 1 = right, 2 = up, 3 = down\n",
    "rewards = {(state, action): random.choice([-1, -100, 100]) for state in states for action in actions}\n",
    "\n",
    "gamma = 0.9  # Discount factor\n",
    "alpha = 0.1  # Learning rate\n",
    "epsilon = 0.1  # Exploration rate\n",
    "\n",
    "# Initialize Q-table\n",
    "def initialize_q_table(states, actions):\n",
    "    return pd.DataFrame(0, index=states, columns=actions)\n",
    "\n",
    "Q = initialize_q_table(states, actions)\n",
    "\n",
    "def get_next_state(state, action):\n",
    "    if action == 0:  # Left\n",
    "        return state - 1 if state % 20 != 0 else state\n",
    "    elif action == 1:  # Right\n",
    "        return state + 1 if state % 20 != 19 else state\n",
    "    elif action == 2:  # Up\n",
    "        return state - 20 if state >= 20 else state\n",
    "    elif action == 3:  # Down\n",
    "        return state + 20 if state < 380 else state\n",
    "    return state\n",
    "\n",
    "def get_reward(state, action):\n",
    "    return rewards.get((state, action), 0)\n",
    "\n",
    "def choose_action(state):\n",
    "    if random.uniform(0, 1) < epsilon:\n",
    "        return random.choice(actions)  # Exploration\n",
    "    else:\n",
    "        return Q.loc[state].idxmax()  # Exploitation\n",
    "\n",
    "# Train Q-learning model\n",
    "episodes = 500\n",
    "for _ in range(episodes):\n",
    "    state = random.choice(states[:-1])  # Start at a non-terminal state\n",
    "    while state != 399:  # Assuming 399 is the terminal state\n",
    "        action = choose_action(state)\n",
    "        next_state = get_next_state(state, action)\n",
    "        reward = get_reward(state, action)\n",
    "        \n",
    "        # Update Q-value\n",
    "        best_future_q = Q.loc[next_state].max()\n",
    "        Q.loc[state, action] = (1 - alpha) * Q.loc[state, action] + alpha * (reward + gamma * best_future_q)\n",
    "        \n",
    "        state = next_state\n",
    "\n",
    "# Display final Q-table\n",
    "print(Q)\n"
   ]
  },
  {
   "cell_type": "markdown",
   "id": "3b912364",
   "metadata": {},
   "source": [
    "### 3. Testing Your Model\n",
    "In the cell seen below, write the code you need to test your Q-Learning model for **1000 episodes**. It is important to test your model for 1000 episodes so that we are all able to compare our results.\n",
    "\n",
    "*Note, level 5 testing uses both a success rate and an average steps taken metric to evaluate your model. Level 4 uses one or the other.*"
   ]
  },
  {
   "cell_type": "code",
   "execution_count": null,
   "id": "e30cf1dd",
   "metadata": {},
   "outputs": [],
   "source": [
    "# Test model here."
   ]
  },
  {
   "cell_type": "markdown",
   "id": "78e7e09e",
   "metadata": {},
   "source": [
    "### 4. Final Answer\n",
    "In the first cell below, describe the path your elf takes to get to the gift. *Note, a level 5 answer includes a gif of the path your elf takes in order to reach the gift.*\n",
    "\n",
    "In the second cell seen below, describe how well your Q-Learning model performed. Make sure that you explicitly name the **learning rate**, **the discount factor**, and the **reward system** that you used when training your final model. *Note, a level 5 description describes the model's performance using two types of quantitative evidence.*"
   ]
  },
  {
   "cell_type": "markdown",
   "id": "9b6eef8e",
   "metadata": {},
   "source": [
    "![example image](https://gymnasium.farama.org/_images/frozen_lake.gif)"
   ]
  },
  {
   "cell_type": "markdown",
   "id": "54fdae15",
   "metadata": {},
   "source": [
    "#### Describe the path your elf takes here."
   ]
  },
  {
   "cell_type": "markdown",
   "id": "6b8f66ed",
   "metadata": {},
   "source": [
    "#### Describe how well your Q-Learning model performed here."
   ]
  }
 ],
 "metadata": {
  "kernelspec": {
   "display_name": "Python 3 (ipykernel)",
   "language": "python",
   "name": "python3"
  },
  "language_info": {
   "codemirror_mode": {
    "name": "ipython",
    "version": 3
   },
   "file_extension": ".py",
   "mimetype": "text/x-python",
   "name": "python",
   "nbconvert_exporter": "python",
   "pygments_lexer": "ipython3",
   "version": "3.12.4"
  }
 },
 "nbformat": 4,
 "nbformat_minor": 5
}
